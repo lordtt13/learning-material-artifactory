{
 "cells": [
  {
   "cell_type": "code",
   "execution_count": 0,
   "metadata": {
    "colab": {},
    "colab_type": "code",
    "id": "9BpjUIp6m9hJ"
   },
   "outputs": [],
   "source": [
    "import numpy as np\n",
    "import tensorflow as tf\n",
    "import tensorflow_hub as hub\n",
    "\n",
    "from tensorflow.keras.datasets import imdb\n",
    "from tensorflow.keras.models import Sequential\n",
    "from tensorflow.keras.preprocessing import sequence\n",
    "from tensorflow.keras.layers import Embedding, LSTM, Dense, Dropout"
   ]
  },
  {
   "cell_type": "code",
   "execution_count": 2,
   "metadata": {
    "colab": {
     "base_uri": "https://localhost:8080/",
     "height": 51
    },
    "colab_type": "code",
    "id": "lQCmUVKem9hT",
    "outputId": "8f5bbc05-ef00-4dd7-a263-09e794d7835e"
   },
   "outputs": [
    {
     "name": "stdout",
     "output_type": "stream",
     "text": [
      "Downloading data from https://storage.googleapis.com/tensorflow/tf-keras-datasets/imdb.npz\n",
      "17465344/17464789 [==============================] - 1s 0us/step\n"
     ]
    }
   ],
   "source": [
    "vocabulary_size = 5000\n",
    "max_words = 500\n",
    "\n",
    "(X_train, y_train), (X_test, y_test) = imdb.load_data(num_words = vocabulary_size)"
   ]
  },
  {
   "cell_type": "code",
   "execution_count": 3,
   "metadata": {
    "colab": {
     "base_uri": "https://localhost:8080/",
     "height": 51
    },
    "colab_type": "code",
    "id": "yhME5-Jam9hZ",
    "outputId": "d089593a-e43b-4f32-ffc1-2576e2b30c33"
   },
   "outputs": [
    {
     "name": "stdout",
     "output_type": "stream",
     "text": [
      "Downloading data from https://storage.googleapis.com/tensorflow/tf-keras-datasets/imdb_word_index.json\n",
      "1646592/1641221 [==============================] - 0s 0us/step\n"
     ]
    }
   ],
   "source": [
    "word2id = imdb.get_word_index()\n",
    "id2word = {i: word for word, i in word2id.items()}"
   ]
  },
  {
   "cell_type": "code",
   "execution_count": 0,
   "metadata": {
    "colab": {},
    "colab_type": "code",
    "id": "lGtIyT8Qm9he"
   },
   "outputs": [],
   "source": [
    "X_train = sequence.pad_sequences(X_train, maxlen = max_words)\n",
    "X_test = sequence.pad_sequences(X_test, maxlen = max_words)\n",
    "\n",
    "embedding_size = 32"
   ]
  },
  {
   "cell_type": "code",
   "execution_count": 5,
   "metadata": {
    "colab": {
     "base_uri": "https://localhost:8080/",
     "height": 34
    },
    "colab_type": "code",
    "id": "HJBm4LzDm9hj",
    "outputId": "ec0daa47-a75b-465b-ecba-fd842df9ad6e"
   },
   "outputs": [
    {
     "data": {
      "text/plain": [
       "(25000, 1, 500)"
      ]
     },
     "execution_count": 5,
     "metadata": {
      "tags": []
     },
     "output_type": "execute_result"
    }
   ],
   "source": [
    "X_train_LSTM = np.reshape(X_train, (X_train.shape[0], 1, X_train.shape[1]))\n",
    "X_train_LSTM.shape"
   ]
  },
  {
   "cell_type": "code",
   "execution_count": 0,
   "metadata": {
    "colab": {},
    "colab_type": "code",
    "id": "TqzMhzJrm9hp"
   },
   "outputs": [],
   "source": [
    "model1 = Sequential()\n",
    "model1.add(LSTM(100, input_shape = (X_train_LSTM.shape[1], X_train_LSTM.shape[2])))\n",
    "model1.add(Dense(1, activation = 'sigmoid'))"
   ]
  },
  {
   "cell_type": "code",
   "execution_count": 7,
   "metadata": {
    "colab": {
     "base_uri": "https://localhost:8080/",
     "height": 213
    },
    "colab_type": "code",
    "id": "Oe3Yw6lim9hu",
    "outputId": "87626586-3760-4d52-e7e0-403313a7d164"
   },
   "outputs": [
    {
     "data": {
      "image/png": "[encoded data removed]",
      "text/plain": [
       "<IPython.core.display.Image object>"
      ]
     },
     "execution_count": 7,
     "metadata": {
      "tags": []
     },
     "output_type": "execute_result"
    }
   ],
   "source": [
    "tf.keras.utils.plot_model(model1, show_shapes = True, dpi = 64)"
   ]
  },
  {
   "cell_type": "code",
   "execution_count": 0,
   "metadata": {
    "colab": {},
    "colab_type": "code",
    "id": "t4gSau31m9hz"
   },
   "outputs": [],
   "source": [
    "model1.compile(loss = 'binary_crossentropy', optimizer = 'adam', metrics = ['accuracy'])\n",
    "\n",
    "batch_size = 64\n",
    "num_epochs = 3\n",
    "\n",
    "X_valid, y_valid = X_train_LSTM[:batch_size], y_train[:batch_size]  \n",
    "X_train2, y_train2 = X_train_LSTM[batch_size:], y_train[batch_size:]"
   ]
  },
  {
   "cell_type": "code",
   "execution_count": 9,
   "metadata": {
    "colab": {
     "base_uri": "https://localhost:8080/",
     "height": 136
    },
    "colab_type": "code",
    "id": "0dponacim9h6",
    "outputId": "411b04bf-5419-44db-b0af-0f1d8c389650"
   },
   "outputs": [
    {
     "name": "stdout",
     "output_type": "stream",
     "text": [
      "Epoch 1/3\n",
      "390/390 [==============================] - 2s 6ms/step - loss: 0.7094 - accuracy: 0.5022 - val_loss: 0.7407 - val_accuracy: 0.3750\n",
      "Epoch 2/3\n",
      "390/390 [==============================] - 2s 5ms/step - loss: 0.6965 - accuracy: 0.5135 - val_loss: 0.6973 - val_accuracy: 0.4688\n",
      "Epoch 3/3\n",
      "390/390 [==============================] - 2s 5ms/step - loss: 0.6935 - accuracy: 0.5131 - val_loss: 0.6974 - val_accuracy: 0.4062\n"
     ]
    },
    {
     "data": {
      "text/plain": [
       "<tensorflow.python.keras.callbacks.History at 0x7f71021cd1d0>"
      ]
     },
     "execution_count": 9,
     "metadata": {
      "tags": []
     },
     "output_type": "execute_result"
    }
   ],
   "source": [
    "model1.fit(X_train2, y_train2,\n",
    "          validation_data = (X_valid, y_valid),\n",
    "          batch_size = batch_size, epochs = num_epochs)"
   ]
  },
  {
   "cell_type": "code",
   "execution_count": 0,
   "metadata": {
    "colab": {},
    "colab_type": "code",
    "id": "eD_7oVbim9h-"
   },
   "outputs": [],
   "source": [
    "model2 = Sequential()\n",
    "model2.add(Embedding(vocabulary_size, embedding_size, input_length = max_words))\n",
    "model2.add(LSTM(100))\n",
    "model2.add(Dense(1, activation = 'sigmoid'))"
   ]
  },
  {
   "cell_type": "code",
   "execution_count": 11,
   "metadata": {
    "colab": {
     "base_uri": "https://localhost:8080/",
     "height": 287
    },
    "colab_type": "code",
    "id": "68L281GNm9iF",
    "outputId": "182243eb-5ebf-4a6d-9998-b2f7499aaabb"
   },
   "outputs": [
    {
     "data": {
      "image/png": "[encoded data removed]",
      "text/plain": [
       "<IPython.core.display.Image object>"
      ]
     },
     "execution_count": 11,
     "metadata": {
      "tags": []
     },
     "output_type": "execute_result"
    }
   ],
   "source": [
    "tf.keras.utils.plot_model(model2, show_shapes = True, dpi = 64)"
   ]
  },
  {
   "cell_type": "code",
   "execution_count": 0,
   "metadata": {
    "colab": {},
    "colab_type": "code",
    "id": "xPetRVqZm9iO"
   },
   "outputs": [],
   "source": [
    "model2.compile(loss = 'binary_crossentropy', optimizer = 'adam', metrics = ['accuracy'])\n",
    "\n",
    "batch_size = 64\n",
    "num_epochs = 3\n",
    "\n",
    "X_valid, y_valid = X_train[:batch_size], y_train[:batch_size]  \n",
    "X_train2, y_train2 = X_train[batch_size:], y_train[batch_size:]"
   ]
  },
  {
   "cell_type": "code",
   "execution_count": 13,
   "metadata": {
    "colab": {
     "base_uri": "https://localhost:8080/",
     "height": 136
    },
    "colab_type": "code",
    "id": "-RyVXAMMm9iS",
    "outputId": "51c7f3d6-0301-4321-95e3-e382d7a146ef"
   },
   "outputs": [
    {
     "name": "stdout",
     "output_type": "stream",
     "text": [
      "Epoch 1/3\n",
      "390/390 [==============================] - 32s 81ms/step - loss: 0.4690 - accuracy: 0.7773 - val_loss: 0.2463 - val_accuracy: 0.8594\n",
      "Epoch 2/3\n",
      "390/390 [==============================] - 30s 78ms/step - loss: 0.3329 - accuracy: 0.8721 - val_loss: 0.3691 - val_accuracy: 0.8906\n",
      "Epoch 3/3\n",
      "390/390 [==============================] - 30s 78ms/step - loss: 0.2471 - accuracy: 0.9031 - val_loss: 0.2438 - val_accuracy: 0.9062\n"
     ]
    },
    {
     "data": {
      "text/plain": [
       "<tensorflow.python.keras.callbacks.History at 0x7f71013d8128>"
      ]
     },
     "execution_count": 13,
     "metadata": {
      "tags": []
     },
     "output_type": "execute_result"
    }
   ],
   "source": [
    "model2.fit(X_train2, y_train2,\n",
    "          validation_data = (X_valid, y_valid),\n",
    "          batch_size = batch_size, epochs = num_epochs)"
   ]
  },
  {
   "cell_type": "code",
   "execution_count": 15,
   "metadata": {
    "colab": {
     "base_uri": "https://localhost:8080/",
     "height": 357
    },
    "colab_type": "code",
    "id": "oLEXWgU3nUJh",
    "outputId": "4e24b9cc-6116-47cc-c67a-af5f7ac7e294"
   },
   "outputs": [
    {
     "name": "stdout",
     "output_type": "stream",
     "text": [
      "--2020-06-04 18:38:07--  http://nlp.stanford.edu/data/glove.6B.zip\n",
      "Resolving nlp.stanford.edu (nlp.stanford.edu)... 171.64.67.140\n",
      "Connecting to nlp.stanford.edu (nlp.stanford.edu)|171.64.67.140|:80... connected.\n",
      "HTTP request sent, awaiting response... 302 Found\n",
      "Location: https://nlp.stanford.edu/data/glove.6B.zip [following]\n",
      "--2020-06-04 18:38:07--  https://nlp.stanford.edu/data/glove.6B.zip\n",
      "Connecting to nlp.stanford.edu (nlp.stanford.edu)|171.64.67.140|:443... connected.\n",
      "HTTP request sent, awaiting response... 301 Moved Permanently\n",
      "Location: http://downloads.cs.stanford.edu/nlp/data/glove.6B.zip [following]\n",
      "--2020-06-04 18:38:08--  http://downloads.cs.stanford.edu/nlp/data/glove.6B.zip\n",
      "Resolving downloads.cs.stanford.edu (downloads.cs.stanford.edu)... 171.64.64.22\n",
      "Connecting to downloads.cs.stanford.edu (downloads.cs.stanford.edu)|171.64.64.22|:80... connected.\n",
      "HTTP request sent, awaiting response... 200 OK\n",
      "Length: 862182613 (822M) [application/zip]\n",
      "Saving to: ‘glove.6B.zip’\n",
      "\n",
      "glove.6B.zip        100%[===================>] 822.24M  1.92MB/s    in 6m 29s  \n",
      "\n",
      "2020-06-04 18:44:37 (2.11 MB/s) - ‘glove.6B.zip’ saved [862182613/862182613]\n",
      "\n"
     ]
    }
   ],
   "source": [
    "!wget http://nlp.stanford.edu/data/glove.6B.zip"
   ]
  },
  {
   "cell_type": "code",
   "execution_count": 16,
   "metadata": {
    "colab": {
     "base_uri": "https://localhost:8080/",
     "height": 102
    },
    "colab_type": "code",
    "id": "ur0XmHk2oGxX",
    "outputId": "64f6f7a6-4215-4f04-90e2-b46ac466f493"
   },
   "outputs": [
    {
     "name": "stdout",
     "output_type": "stream",
     "text": [
      "Archive:  glove.6B.zip\n",
      "  inflating: glove.6B.50d.txt        \n",
      "  inflating: glove.6B.100d.txt       \n",
      "  inflating: glove.6B.200d.txt       \n",
      "  inflating: glove.6B.300d.txt       \n"
     ]
    }
   ],
   "source": [
    "!unzip glove.6B.zip"
   ]
  },
  {
   "cell_type": "code",
   "execution_count": 17,
   "metadata": {
    "colab": {
     "base_uri": "https://localhost:8080/",
     "height": 71
    },
    "colab_type": "code",
    "id": "DJtZGETGm9iW",
    "outputId": "124582a2-5b59-4fd2-99a6-bfe08ee25e94"
   },
   "outputs": [
    {
     "name": "stderr",
     "output_type": "stream",
     "text": [
      "/usr/local/lib/python3.6/dist-packages/IPython/core/interactiveshell.py:2822: FutureWarning: arrays to stack must be passed as a \"sequence\" type such as list or tuple. Support for non-sequence iterables such as generators is deprecated as of NumPy 1.16 and will raise an error in the future.\n",
      "  if self.run_code(code, result):\n"
     ]
    }
   ],
   "source": [
    "def get_coefs(word,*arr): \n",
    "    return word, np.asarray(arr, dtype = 'float32')\n",
    "\n",
    "embeddings_index = dict(get_coefs(*o.strip().split()) for o in open('glove.6B.50d.txt','rb'))\n",
    "\n",
    "all_embs = np.stack(embeddings_index.values())\n",
    "emb_mean,emb_std = all_embs.mean(), all_embs.std()\n",
    "embed_size = 50\n",
    "embedding_matrix = np.random.normal(emb_mean, emb_std, (vocabulary_size, embed_size))\n",
    "\n",
    "for word, i in word2id.items():\n",
    "    if i >= vocabulary_size: \n",
    "        continue \n",
    "    embedding_vector = embeddings_index.get(word) \n",
    "    \n",
    "    if embedding_vector is not None: \n",
    "        embedding_matrix[i] = embedding_vector "
   ]
  },
  {
   "cell_type": "code",
   "execution_count": 0,
   "metadata": {
    "colab": {},
    "colab_type": "code",
    "id": "RhoUfETPm9ia"
   },
   "outputs": [],
   "source": [
    "model3 = Sequential()\n",
    "model3.add(Embedding(vocabulary_size, embed_size, weights = [embedding_matrix], input_length = max_words, trainable = False))\n",
    "model3.add(LSTM(100, return_sequences = True))\n",
    "model3.add(tf.keras.layers.GlobalMaxPooling1D())\n",
    "model3.add(Dense(1, activation = 'sigmoid'))"
   ]
  },
  {
   "cell_type": "code",
   "execution_count": 20,
   "metadata": {
    "colab": {
     "base_uri": "https://localhost:8080/",
     "height": 361
    },
    "colab_type": "code",
    "id": "7DPibBPWm9ie",
    "outputId": "f2646fff-bb4d-45f1-f6f4-e9066cd2e6e7"
   },
   "outputs": [
    {
     "data": {
      "image/png": "[encoded data removed]",
      "text/plain": [
       "<IPython.core.display.Image object>"
      ]
     },
     "execution_count": 20,
     "metadata": {
      "tags": []
     },
     "output_type": "execute_result"
    }
   ],
   "source": [
    "tf.keras.utils.plot_model(model3, show_shapes = True, dpi = 64)"
   ]
  },
  {
   "cell_type": "code",
   "execution_count": 21,
   "metadata": {
    "colab": {
     "base_uri": "https://localhost:8080/",
     "height": 136
    },
    "colab_type": "code",
    "id": "8IVhdvEbm9ij",
    "outputId": "a5fcdaf7-771b-4d5b-bb9f-702465e85e86"
   },
   "outputs": [
    {
     "name": "stdout",
     "output_type": "stream",
     "text": [
      "Epoch 1/3\n",
      "390/390 [==============================] - 30s 77ms/step - loss: 0.6128 - accuracy: 0.6581 - val_loss: 0.5207 - val_accuracy: 0.7812\n",
      "Epoch 2/3\n",
      "390/390 [==============================] - 30s 76ms/step - loss: 0.5155 - accuracy: 0.7497 - val_loss: 0.4632 - val_accuracy: 0.7969\n",
      "Epoch 3/3\n",
      "390/390 [==============================] - 30s 76ms/step - loss: 0.4489 - accuracy: 0.7939 - val_loss: 0.4194 - val_accuracy: 0.8594\n"
     ]
    },
    {
     "data": {
      "text/plain": [
       "<tensorflow.python.keras.callbacks.History at 0x7f7105dcfac8>"
      ]
     },
     "execution_count": 21,
     "metadata": {
      "tags": []
     },
     "output_type": "execute_result"
    }
   ],
   "source": [
    "model3.compile(loss = 'binary_crossentropy', optimizer = 'adam', metrics = ['accuracy'])\n",
    "model3.fit(X_train2, y_train2,\n",
    "          validation_data = (X_valid, y_valid),\n",
    "          batch_size = batch_size, epochs = 3)"
   ]
  },
  {
   "cell_type": "code",
   "execution_count": 22,
   "metadata": {
    "colab": {
     "base_uri": "https://localhost:8080/",
     "height": 88
    },
    "colab_type": "code",
    "id": "_ilEGdNem9is",
    "outputId": "5da5a1ff-7994-41c5-8a2a-c364e0f217de"
   },
   "outputs": [
    {
     "name": "stdout",
     "output_type": "stream",
     "text": [
      "the ignore and and and it of and war br is thought and like and and acting and no about order it age this is warning experiences go are is casting and desperately would it and br never empty movie about and into me cute will decide to her would there so and and viewing send richard and to so and park are about and out in at woman and smaller in and and in pleasant this about and not and are our that this pleasant is heaven i'd br songs send you've bob it years extremely in and game in caring about sort is offer br about order and and like asian camera film about and and game in car any give but is content br of sense for would and would it and in to as it know comes and direction gave be about process shall send movie it and film comes reality it they how and who of q happens to it titles his in cannot and who happens shape and and and is spent school this sadistic to and send it them and who of mix and and and and is entertainment cagney like gem made ridiculously of shall in why think up after universal of you but especially like there his life that her equipment in why more he that's surprised and to its br any cities in perfect appears king beginning wish this as their built sadistic of even dramatic year there is otherwise del film give hours to animated material that other there is time misery simple out but very mysteries who and and for into feature this man yes but is go an this an is how business sadistic\n",
      "\n",
      "is positive\n"
     ]
    }
   ],
   "source": [
    "idx = np.random.choice(X_train.shape[0])\n",
    "review = \" \".join([id2word[i] for i in X_train[idx] if i])\n",
    "if model2.predict(np.reshape(X_train[idx], (1,-1))) < 0.5:\n",
    "    label = 'negative'\n",
    "else:\n",
    "    label = 'positive'\n",
    "print(review + '\\n\\nis ' + label)"
   ]
  },
  {
   "cell_type": "code",
   "execution_count": 0,
   "metadata": {
    "colab": {},
    "colab_type": "code",
    "id": "3uEFhCNmm9iw"
   },
   "outputs": [],
   "source": []
  }
 ],
 "metadata": {
  "accelerator": "GPU",
  "colab": {
   "name": "rnn_classifier.ipynb",
   "provenance": []
  },
  "kernelspec": {
   "display_name": "Python 3",
   "language": "python",
   "name": "python3"
  },
  "language_info": {
   "codemirror_mode": {
    "name": "ipython",
    "version": 3
   },
   "file_extension": ".py",
   "mimetype": "text/x-python",
   "name": "python",
   "nbconvert_exporter": "python",
   "pygments_lexer": "ipython3",
   "version": "3.7.7"
  }
 },
 "nbformat": 4,
 "nbformat_minor": 1
}
